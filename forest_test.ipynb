{
 "cells": [
  {
   "cell_type": "code",
   "execution_count": 1,
   "id": "5cb2f18a-3239-44e5-87d6-e212e6cb4199",
   "metadata": {
    "tags": []
   },
   "outputs": [],
   "source": [
    "import pandas as pd\n",
    "from sklearn.ensemble import RandomForestRegressor\n",
    "from sklearn.model_selection import train_test_split\n"
   ]
  },
  {
   "cell_type": "code",
   "execution_count": 15,
   "id": "099e98d0-792b-41b1-a659-f2454e23f77a",
   "metadata": {
    "tags": []
   },
   "outputs": [
    {
     "name": "stdout",
     "output_type": "stream",
     "text": [
      "Index(['Unnamed: 0', 'Season', 'DayNum', 'WTeamID', 'WScore', 'LTeamID',\n",
      "       'LScore', 'WLoc', 'NumOT', 'WFGM', 'WFGA', 'WFGM3', 'WFGA3', 'WFTM',\n",
      "       'WFTA', 'WOR', 'WDR', 'WAst', 'WTO', 'WStl', 'WBlk', 'WPF', 'LFGM',\n",
      "       'LFGA', 'LFGM3', 'LFGA3', 'LFTM', 'LFTA', 'LOR', 'LDR', 'LAst', 'LTO',\n",
      "       'LStl', 'LBlk', 'LPF', 'pWAVGScore', 'pWAVGFGM', 'pWAVGFGA',\n",
      "       'pWAVGFGM3', 'pWAVGFGA3', 'pWAVGFTM', 'pWAVGFTA', 'pWAVGOR', 'pWAVGDR',\n",
      "       'pWAVGAst', 'pWAVGTO', 'pWAVGBlk', 'pWAVGPF', 'poWAVGScore',\n",
      "       'poWAVGFGM', 'poWAVGFGA', 'poWAVGFGM3', 'poWAVGFGA3', 'poWAVGFTM',\n",
      "       'poWAVGFTA', 'poWAVGOR', 'poWAVGDR', 'poWAVGAst', 'poWAVGTO',\n",
      "       'poWAVGBlk', 'poWAVGPF', 'WGN', 'pLAVGScore', 'pLAVGFGM', 'pLAVGFGA',\n",
      "       'pLAVGFGM3', 'pLAVGFGA3', 'pLAVGFTM', 'pLAVGFTA', 'pLAVGOR', 'pLAVGDR',\n",
      "       'pLAVGAst', 'pLAVGTO', 'pLAVGBlk', 'pLAVGPF', 'poLAVGScore',\n",
      "       'poLAVGFGM', 'poLAVGFGA', 'poLAVGFGM3', 'poLAVGFGA3', 'poLAVGFTM',\n",
      "       'poLAVGFTA', 'poLAVGOR', 'poLAVGDR', 'poLAVGAst', 'poLAVGTO',\n",
      "       'poLAVGBlk', 'poLAVGPF', 'LGN'],\n",
      "      dtype='object')\n"
     ]
    }
   ],
   "source": [
    "df = pd.read_csv('MLCleanedData.csv')\n",
    "print(df.columns)"
   ]
  },
  {
   "cell_type": "code",
   "execution_count": 17,
   "id": "05f2516b-d157-473c-bd88-3175b862e21d",
   "metadata": {
    "tags": []
   },
   "outputs": [
    {
     "name": "stdout",
     "output_type": "stream",
     "text": [
      "R-squared: -0.011220316367643646\n",
      "WFGM : 0.038742525094627736\n",
      "WFGA : 0.04400607269392997\n",
      "WFGM3 : 0.03147079624557394\n",
      "WFGA3 : 0.03979481920202319\n",
      "WFTM : 0.0389812970060264\n",
      "WFTA : 0.04053977925215875\n",
      "WOR : 0.041170440971744764\n",
      "WDR : 0.04204700070006101\n",
      "WAst : 0.04236195421453512\n",
      "WTO : 0.03403861013214372\n",
      "WStl : 0.0335548219078926\n",
      "WBlk : 0.03424670117004898\n",
      "WPF : 0.03637151380464165\n",
      "LFGM : 0.03859602600923662\n",
      "LFGA : 0.043948850782627696\n",
      "LFGM3 : 0.03321875708052861\n",
      "LFGA3 : 0.04655255048238028\n",
      "LFTM : 0.037712100995480925\n",
      "LFTA : 0.04037931231341936\n",
      "LOR : 0.038685285188312976\n",
      "LDR : 0.04194837878231306\n",
      "LAst : 0.04055929166146437\n",
      "LTO : 0.03884016520642528\n",
      "LStl : 0.0339616019004763\n",
      "LBlk : 0.031171109535877303\n",
      "LPF : 0.03710023766604949\n"
     ]
    }
   ],
   "source": [
    "feature_columns = ['WFGM', 'WFGA', 'WFGM3', 'WFGA3', 'WFTM', 'WFTA', 'WOR', 'WDR', 'WAst', 'WTO', 'WStl', 'WBlk', 'WPF',\n",
    "                   'LFGM', 'LFGA', 'LFGM3', 'LFGA3', 'LFTM', 'LFTA', 'LOR', 'LDR', 'LAst', 'LTO', 'LStl', 'LBlk', 'LPF']\n",
    "\n",
    "X = df[feature_columns]\n",
    "y = df['WTeamID']\n",
    "\n",
    "# Split the data into training and testing sets\n",
    "X_train, X_test, y_train, y_test = train_test_split(X, y, test_size=0.2, random_state=42)\n",
    "\n",
    "# Create an instance of the Random Forest model and fit it to the training data\n",
    "rf = RandomForestRegressor(n_estimators=100, random_state=42)  # Adjust the number of estimators as desired\n",
    "rf.fit(X_train, y_train)\n",
    "\n",
    "# Evaluate the model's performance on the testing data\n",
    "score = rf.score(X_test, y_test)\n",
    "print(\"R-squared:\", score)\n",
    "\n",
    "# Obtain the feature importance scores\n",
    "feature_importances = rf.feature_importances_\n",
    "\n",
    "# Print the feature importance scores\n",
    "for feature, importance in zip(feature_columns, feature_importances):\n",
    "    print(feature, \":\", importance)"
   ]
  },
  {
   "cell_type": "code",
   "execution_count": null,
   "id": "c4d27775-75e3-41b7-953c-125ffc8c799a",
   "metadata": {},
   "outputs": [],
   "source": []
  }
 ],
 "metadata": {
  "kernelspec": {
   "display_name": "Python 3 (ipykernel)",
   "language": "python",
   "name": "python3"
  },
  "language_info": {
   "codemirror_mode": {
    "name": "ipython",
    "version": 3
   },
   "file_extension": ".py",
   "mimetype": "text/x-python",
   "name": "python",
   "nbconvert_exporter": "python",
   "pygments_lexer": "ipython3",
   "version": "3.9.2"
  }
 },
 "nbformat": 4,
 "nbformat_minor": 5
}
