{
 "cells": [
  {
   "cell_type": "code",
   "execution_count": 9,
   "id": "5cb2f18a-3239-44e5-87d6-e212e6cb4199",
   "metadata": {
    "tags": []
   },
   "outputs": [],
   "source": [
    "import pandas as pd\n",
    "import numpy as np\n",
    "from sklearn.ensemble import RandomForestRegressor\n",
    "from sklearn.model_selection import train_test_split\n",
    "from sklearn.ensemble import IsolationForest\n",
    "from sklearn.preprocessing import StandardScaler\n",
    "from sklearn.decomposition import PCA"
   ]
  },
  {
   "cell_type": "code",
   "execution_count": 15,
   "id": "099e98d0-792b-41b1-a659-f2454e23f77a",
   "metadata": {
    "tags": []
   },
   "outputs": [
    {
     "name": "stdout",
     "output_type": "stream",
     "text": [
      "Index(['Unnamed: 0', 'Season', 'DayNum', 'WTeamID', 'WScore', 'LTeamID',\n",
      "       'LScore', 'WLoc', 'NumOT', 'WFGM', 'WFGA', 'WFGM3', 'WFGA3', 'WFTM',\n",
      "       'WFTA', 'WOR', 'WDR', 'WAst', 'WTO', 'WStl', 'WBlk', 'WPF', 'LFGM',\n",
      "       'LFGA', 'LFGM3', 'LFGA3', 'LFTM', 'LFTA', 'LOR', 'LDR', 'LAst', 'LTO',\n",
      "       'LStl', 'LBlk', 'LPF', 'pWAVGScore', 'pWAVGFGM', 'pWAVGFGA',\n",
      "       'pWAVGFGM3', 'pWAVGFGA3', 'pWAVGFTM', 'pWAVGFTA', 'pWAVGOR', 'pWAVGDR',\n",
      "       'pWAVGAst', 'pWAVGTO', 'pWAVGBlk', 'pWAVGPF', 'poWAVGScore',\n",
      "       'poWAVGFGM', 'poWAVGFGA', 'poWAVGFGM3', 'poWAVGFGA3', 'poWAVGFTM',\n",
      "       'poWAVGFTA', 'poWAVGOR', 'poWAVGDR', 'poWAVGAst', 'poWAVGTO',\n",
      "       'poWAVGBlk', 'poWAVGPF', 'WGN', 'pLAVGScore', 'pLAVGFGM', 'pLAVGFGA',\n",
      "       'pLAVGFGM3', 'pLAVGFGA3', 'pLAVGFTM', 'pLAVGFTA', 'pLAVGOR', 'pLAVGDR',\n",
      "       'pLAVGAst', 'pLAVGTO', 'pLAVGBlk', 'pLAVGPF', 'poLAVGScore',\n",
      "       'poLAVGFGM', 'poLAVGFGA', 'poLAVGFGM3', 'poLAVGFGA3', 'poLAVGFTM',\n",
      "       'poLAVGFTA', 'poLAVGOR', 'poLAVGDR', 'poLAVGAst', 'poLAVGTO',\n",
      "       'poLAVGBlk', 'poLAVGPF', 'LGN'],\n",
      "      dtype='object')\n"
     ]
    }
   ],
   "source": [
    "df = pd.read_csv('MLCleanedData.csv')\n",
    "print(df.columns)"
   ]
  },
  {
   "cell_type": "code",
   "execution_count": 17,
   "id": "05f2516b-d157-473c-bd88-3175b862e21d",
   "metadata": {
    "tags": []
   },
   "outputs": [
    {
     "name": "stdout",
     "output_type": "stream",
     "text": [
      "R-squared: -0.011220316367643646\n",
      "WFGM : 0.038742525094627736\n",
      "WFGA : 0.04400607269392997\n",
      "WFGM3 : 0.03147079624557394\n",
      "WFGA3 : 0.03979481920202319\n",
      "WFTM : 0.0389812970060264\n",
      "WFTA : 0.04053977925215875\n",
      "WOR : 0.041170440971744764\n",
      "WDR : 0.04204700070006101\n",
      "WAst : 0.04236195421453512\n",
      "WTO : 0.03403861013214372\n",
      "WStl : 0.0335548219078926\n",
      "WBlk : 0.03424670117004898\n",
      "WPF : 0.03637151380464165\n",
      "LFGM : 0.03859602600923662\n",
      "LFGA : 0.043948850782627696\n",
      "LFGM3 : 0.03321875708052861\n",
      "LFGA3 : 0.04655255048238028\n",
      "LFTM : 0.037712100995480925\n",
      "LFTA : 0.04037931231341936\n",
      "LOR : 0.038685285188312976\n",
      "LDR : 0.04194837878231306\n",
      "LAst : 0.04055929166146437\n",
      "LTO : 0.03884016520642528\n",
      "LStl : 0.0339616019004763\n",
      "LBlk : 0.031171109535877303\n",
      "LPF : 0.03710023766604949\n"
     ]
    }
   ],
   "source": [
    "feature_columns = ['WFGM', 'WFGA', 'WFGM3', 'WFGA3', 'WFTM', 'WFTA', 'WOR', 'WDR', 'WAst', 'WTO', 'WStl', 'WBlk', 'WPF',\n",
    "                   'LFGM', 'LFGA', 'LFGM3', 'LFGA3', 'LFTM', 'LFTA', 'LOR', 'LDR', 'LAst', 'LTO', 'LStl', 'LBlk', 'LPF']\n",
    "\n",
    "X = df[feature_columns]\n",
    "y = df['WTeamID']\n",
    "\n",
    "# Split the data into training and testing sets\n",
    "X_train, X_test, y_train, y_test = train_test_split(X, y, test_size=0.2, random_state=42)\n",
    "\n",
    "# Create an instance of the Random Forest model and fit it to the training data\n",
    "rf = RandomForestRegressor(n_estimators=100, random_state=42)  # Adjust the number of estimators as desired\n",
    "rf.fit(X_train, y_train)\n",
    "\n",
    "# Evaluate the model's performance on the testing data\n",
    "score = rf.score(X_test, y_test)\n",
    "print(\"R-squared:\", score)\n",
    "\n",
    "# Obtain the feature importance scores\n",
    "feature_importances = rf.feature_importances_\n",
    "\n",
    "# Print the feature importance scores\n",
    "for feature, importance in zip(feature_columns, feature_importances):\n",
    "    print(feature, \":\", importance)"
   ]
  },
  {
   "cell_type": "code",
   "execution_count": 5,
   "id": "5420c1e2-2c32-437a-bcee-c934d1c4e8fe",
   "metadata": {
    "tags": []
   },
   "outputs": [],
   "source": [
    "# Load your basketball dataset into a pandas DataFrame\n",
    "df = pd.read_csv('seasonStats2.csv')\n",
    "\n",
    "df = df.loc[(df['Season'] >= 2003) & (df['Season'] <= 2023) & (df[\"HighDay\"] >= -1) & (df[\"TeamID\"] > 0)]\n",
    "#df = df.loc[(df['Season'] == 2004) & (df[\"HighDay\"] >= -1) & (df[\"TeamID\"] > 0)] \n",
    "df = df[df[\"AVGFGA\"] != -1]\n",
    "\n",
    "statsToMeasure = [\"Score\", \"FGM\", \"FGA\", \"FGM3\", \"FGA3\", \"FTM\", \"FTA\", \"OR\", \"DR\", \"Ast\", \"TO\", \"Stl\", \"Blk\", \"PF\"]\n",
    "statsMeasured = [\"RAT\" + stat for stat in statsToMeasure]\n",
    "\n",
    "selected = statsMeasured\n",
    "x = df.loc[:, statsMeasured].values\n",
    "y = df.loc[:,['HighDay']].values\n",
    "\n",
    "x = StandardScaler().fit_transform(x)\n",
    "\n",
    "pca = PCA(n_components=6)\n",
    "principalComponents = pca.fit_transform(x)\n",
    "\n",
    "principalDf = pd.DataFrame(data = principalComponents\n",
    "             , columns = [\"pc1\", \"pc2\", \"pc3\", \"pc4\", \"pc5\", \"pc6\"])\n",
    "\n",
    "\n",
    "df.reset_index(inplace=True)\n",
    "\n",
    "principalDf[\"HighDay\"] = df[\"HighDay\"]\n",
    "principalDf[\"GamesWon\"] = df[\"GamesWon\"]\n",
    "principalDf[\"TeamID\"] = df[\"TeamID\"]\n",
    "\n",
    "principalDf.loc[(principalDf[\"GamesWon\"] >= 0) & (principalDf[\"GamesWon\"] <=4), \"GamesWon\"] = 4\n",
    "principalDf.loc[(principalDf[\"GamesWon\"] >= 5) & (principalDf[\"GamesWon\"] <=8), \"GamesWon\"] = 8\n",
    "principalDf.loc[(principalDf[\"GamesWon\"] >= 9) & (principalDf[\"GamesWon\"] <= 12), \"GamesWon\"] = 12\n",
    "principalDf.loc[(principalDf[\"GamesWon\"] >= 13) & (principalDf[\"GamesWon\"] <=16), \"GamesWon\"] = 16\n",
    "principalDf.loc[(principalDf[\"GamesWon\"] >= 17) & (principalDf[\"GamesWon\"] <=20), \"GamesWon\"] = 20\n",
    "principalDf.loc[(principalDf[\"GamesWon\"] >= 21) & (principalDf[\"GamesWon\"] <= 24), \"GamesWon\"] = 24\n",
    "principalDf.loc[(principalDf[\"GamesWon\"] >= 25) & (principalDf[\"GamesWon\"] <=28), \"GamesWon\"] = 28\n",
    "principalDf.loc[(principalDf[\"GamesWon\"] >= 29) & (principalDf[\"GamesWon\"] <=32), \"GamesWon\"] = 32\n",
    "principalDf.loc[(principalDf[\"GamesWon\"] >= 33) & (principalDf[\"GamesWon\"] <= 36), \"GamesWon\"] = 36\n",
    "principalDf.loc[(principalDf[\"GamesWon\"] >= 37), \"GamesWon\"] = 40\n"
   ]
  },
  {
   "cell_type": "code",
   "execution_count": 13,
   "id": "afc81f15-af35-41cd-8a43-777d42688fb4",
   "metadata": {
    "tags": []
   },
   "outputs": [
    {
     "name": "stdout",
     "output_type": "stream",
     "text": [
      "<class 'pandas.core.frame.DataFrame'>\n",
      "RangeIndex: 7255 entries, 0 to 7254\n",
      "Data columns (total 48 columns):\n",
      " #   Column      Non-Null Count  Dtype  \n",
      "---  ------      --------------  -----  \n",
      " 0   index       7255 non-null   int64  \n",
      " 1   Unnamed: 0  7255 non-null   int64  \n",
      " 2   Season      7255 non-null   int64  \n",
      " 3   TeamID      7255 non-null   int64  \n",
      " 4   GamesWon    7255 non-null   int64  \n",
      " 5   HighDay     7255 non-null   int64  \n",
      " 6   AVGScore    7255 non-null   float64\n",
      " 7   AVGFGM      7255 non-null   float64\n",
      " 8   AVGFGA      7255 non-null   float64\n",
      " 9   AVGFGM3     7255 non-null   float64\n",
      " 10  AVGFGA3     7255 non-null   float64\n",
      " 11  AVGFTM      7255 non-null   float64\n",
      " 12  AVGFTA      7255 non-null   float64\n",
      " 13  AVGOR       7255 non-null   float64\n",
      " 14  AVGDR       7255 non-null   float64\n",
      " 15  AVGAst      7255 non-null   float64\n",
      " 16  AVGTO       7255 non-null   float64\n",
      " 17  AVGStl      7255 non-null   float64\n",
      " 18  AVGBlk      7255 non-null   float64\n",
      " 19  AVGPF       7255 non-null   float64\n",
      " 20  OAVGScore   7255 non-null   float64\n",
      " 21  OAVGFGM     7255 non-null   float64\n",
      " 22  OAVGFGA     7255 non-null   float64\n",
      " 23  OAVGFGM3    7255 non-null   float64\n",
      " 24  OAVGFGA3    7255 non-null   float64\n",
      " 25  OAVGFTM     7255 non-null   float64\n",
      " 26  OAVGFTA     7255 non-null   float64\n",
      " 27  OAVGOR      7255 non-null   float64\n",
      " 28  OAVGDR      7255 non-null   float64\n",
      " 29  OAVGAst     7255 non-null   float64\n",
      " 30  OAVGTO      7255 non-null   float64\n",
      " 31  OAVGStl     7255 non-null   float64\n",
      " 32  OAVGBlk     7255 non-null   float64\n",
      " 33  OAVGPF      7255 non-null   float64\n",
      " 34  RATScore    7255 non-null   float64\n",
      " 35  RATFGM      7255 non-null   float64\n",
      " 36  RATFGA      7255 non-null   float64\n",
      " 37  RATFGM3     7255 non-null   float64\n",
      " 38  RATFGA3     7255 non-null   float64\n",
      " 39  RATFTM      7255 non-null   float64\n",
      " 40  RATFTA      7255 non-null   float64\n",
      " 41  RATOR       7255 non-null   float64\n",
      " 42  RATDR       7255 non-null   float64\n",
      " 43  RATAst      7255 non-null   float64\n",
      " 44  RATTO       7255 non-null   float64\n",
      " 45  RATStl      7255 non-null   float64\n",
      " 46  RATBlk      7255 non-null   float64\n",
      " 47  RATPF       7255 non-null   float64\n",
      "dtypes: float64(42), int64(6)\n",
      "memory usage: 2.7 MB\n"
     ]
    }
   ],
   "source": [
    "df.info()"
   ]
  },
  {
   "cell_type": "code",
   "execution_count": 45,
   "id": "c4d27775-75e3-41b7-953c-125ffc8c799a",
   "metadata": {},
   "outputs": [],
   "source": [
    "isolation_forest = IsolationForest(contamination=0.02, n_estimators=1000)\n",
    "isolation_forest.fit(x)\n",
    "outliers_original = isolation_forest.predict(x)\n"
   ]
  },
  {
   "cell_type": "code",
   "execution_count": 43,
   "id": "be835408-1927-4134-a9e4-9226c7adbbce",
   "metadata": {
    "tags": []
   },
   "outputs": [
    {
     "name": "stderr",
     "output_type": "stream",
     "text": [
      "/home/deci/.local/lib/python3.9/site-packages/sklearn/base.py:439: UserWarning: X does not have valid feature names, but IsolationForest was fitted with feature names\n",
      "  warnings.warn(\n"
     ]
    }
   ],
   "source": [
    "isolation_forest_pca = IsolationForest(contamination=0.02, n_estimators=1000)\n",
    "isolation_forest_pca.fit(principalDf.loc[:, ['pc1', 'pc2', 'pc3', 'pc4', 'pc5', 'pc6']])\n",
    "outliers_pca = isolation_forest_pca.predict(principalDf.loc[:, ['pc1', 'pc2', 'pc3', 'pc4', 'pc5', 'pc6']])\n"
   ]
  },
  {
   "cell_type": "code",
   "execution_count": 46,
   "id": "5481cf6c-392d-4ab6-ac94-ad46bf7597d2",
   "metadata": {
    "tags": []
   },
   "outputs": [
    {
     "name": "stdout",
     "output_type": "stream",
     "text": [
      "Outliers in the original dataset:\n",
      "[   2   25   26   27   87  112  115  116  117  281  340  341  345  445\n",
      "  462  466  467  500  806  839  987  988  996 1000 1002 1003 1004 1005\n",
      " 1177 1250 1252 1267 1332 1471 1503 1507 1508 1540 1889 1962 1964 2003\n",
      " 2005 2016 2025 2026 2027 2038 2046 2053 2073 2161 2162 2175 2182 2183\n",
      " 2184 2186 2187 2188 2201 2246 2247 2249 2462 2464 2465 2580 2706 2811\n",
      " 2812 2835 2837 2838 2947 2948 2949 2975 3169 3295 3391 3447 3449 3660\n",
      " 3720 3722 3725 3822 3826 3827 3881 3890 3937 3945 3946 3948 4076 4126\n",
      " 4139 4207 4413 4435 4578 4777 4784 4902 4903 4904 4905 5031 5483 5620\n",
      " 5656 5696 5697 5712 5713 5714 5762 5828 5939 6059 6097 6112 6228 6230\n",
      " 6313 6315 6457 6465 6466 6467 6481 6597 6613 6614 6701 6702 6704 6720\n",
      " 6761 6984 7020 7101 7115 7219]\n",
      "Outliers in the PCA dataset:\n",
      "[   2   20   96  112  114  115  116  117  136  180  281  303  341  345\n",
      "  350  354  466  675  826  962 1002 1030 1236 1250 1252 1332 1334 1337\n",
      " 1465 1472 1507 1508 1621 1889 1893 1894 2005 2025 2026 2038 2062 2161\n",
      " 2162 2184 2186 2187 2190 2201 2246 2247 2249 2255 2465 2706 2812 2828\n",
      " 2835 2837 2838 2843 3111 3165 3447 3449 3451 3465 3722 3725 3751 3781\n",
      " 3783 3822 3824 3826 3839 3861 3866 3874 3890 3945 3946 3947 3948 4126\n",
      " 4139 4210 4276 4413 4435 4484 4711 4784 4901 4902 4903 4904 4905 4907\n",
      " 5052 5053 5065 5066 5092 5094 5096 5097 5207 5221 5394 5483 5656 5711\n",
      " 5712 5713 5714 5837 5936 5979 6058 6059 6077 6097 6106 6147 6155 6173\n",
      " 6197 6198 6200 6228 6313 6440 6466 6597 6614 6633 6718 6720 6874 6875\n",
      " 6946 7015 7017 7219 7220 7245]\n"
     ]
    }
   ],
   "source": [
    "print(\"Outliers in the original dataset:\")\n",
    "print(np.where(outliers_original == -1)[0])\n",
    "\n",
    "print(\"Outliers in the PCA dataset:\")\n",
    "print(np.where(outliers_pca == -1)[0])\n"
   ]
  },
  {
   "cell_type": "code",
   "execution_count": 47,
   "id": "0e44b819-a3bb-4cbd-80d1-282368d60bcf",
   "metadata": {
    "tags": []
   },
   "outputs": [
    {
     "name": "stdout",
     "output_type": "stream",
     "text": [
      "Silhouette Coefficient: 0.4000086811237405\n"
     ]
    }
   ],
   "source": [
    "from sklearn.metrics import silhouette_score\n",
    "\n",
    "# Perform outlier detection using Isolation Forest\n",
    "outliers_predicted = isolation_forest.predict(x)\n",
    "\n",
    "# Calculate the silhouette coefficient\n",
    "silhouette = silhouette_score(x, outliers_predicted)\n",
    "\n",
    "print(\"Silhouette Coefficient:\", silhouette)\n"
   ]
  },
  {
   "cell_type": "code",
   "execution_count": 44,
   "id": "146a37ef-6ca8-4834-9416-23cfc4b70096",
   "metadata": {
    "tags": []
   },
   "outputs": [
    {
     "data": {
      "image/png": "[encoded data removed]",
      "text/plain": [
       "<Figure size 640x480 with 1 Axes>"
      ]
     },
     "metadata": {},
     "output_type": "display_data"
    }
   ],
   "source": [
    "# Get the indices of outliers in the PCA dataset\n",
    "outliers_pca_indices = np.where(outliers_pca == -1)[0]\n",
    "\n",
    "# Plot the PCA dataset\n",
    "plt.scatter(principalDf['pc1'], principalDf['pc2'], c='blue', label='Normal Data')\n",
    "# Highlight the outliers\n",
    "plt.scatter(principalDf.loc[outliers_pca_indices, 'pc1'], principalDf.loc[outliers_pca_indices, 'pc2'], c='red', label='Outliers')\n",
    "\n",
    "plt.xlabel('PC1')\n",
    "plt.ylabel('PC2')\n",
    "plt.title('Outliers Detected by Isolation Forest (PCA Dataset)')\n",
    "plt.legend()\n",
    "plt.show()\n"
   ]
  }
 ],
 "metadata": {
  "kernelspec": {
   "display_name": "Python 3 (ipykernel)",
   "language": "python",
   "name": "python3"
  },
  "language_info": {
   "codemirror_mode": {
    "name": "ipython",
    "version": 3
   },
   "file_extension": ".py",
   "mimetype": "text/x-python",
   "name": "python",
   "nbconvert_exporter": "python",
   "pygments_lexer": "ipython3",
   "version": "3.9.2"
  }
 },
 "nbformat": 4,
 "nbformat_minor": 5
}
